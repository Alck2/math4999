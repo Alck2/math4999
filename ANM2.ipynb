{
 "cells": [
  {
   "cell_type": "code",
   "execution_count": 1,
   "metadata": {},
   "outputs": [],
   "source": [
    "import numpy as np\n",
    "from helper import awgn, draw, hermitian, toep\n",
    "import random\n",
    "import cvxpy as cp\n",
    "epsilon = 1e-8"
   ]
  },
  {
   "cell_type": "code",
   "execution_count": 2,
   "metadata": {},
   "outputs": [
    {
     "ename": "ValueError",
     "evalue": "cannot reshape array of size 5 into shape (10,1)",
     "output_type": "error",
     "traceback": [
      "\u001b[1;31m---------------------------------------------------------------------------\u001b[0m",
      "\u001b[1;31mValueError\u001b[0m                                Traceback (most recent call last)",
      "Cell \u001b[1;32mIn[2], line 21\u001b[0m\n\u001b[0;32m     19\u001b[0m X \u001b[39m=\u001b[39m np\u001b[39m.\u001b[39mzeros((M,\u001b[39m1\u001b[39m))\n\u001b[0;32m     20\u001b[0m \u001b[39mfor\u001b[39;00m j \u001b[39min\u001b[39;00m \u001b[39mrange\u001b[39m(Kt):\n\u001b[1;32m---> 21\u001b[0m     X \u001b[39m=\u001b[39m X \u001b[39m+\u001b[39m c_k[j] \u001b[39m*\u001b[39m (a(f_k[j]) \u001b[39m*\u001b[39m b_k[j,:]\u001b[39m.\u001b[39;49mreshape(M,\u001b[39m1\u001b[39;49m))\n\u001b[0;32m     22\u001b[0m Y \u001b[39m=\u001b[39m X \u001b[39m+\u001b[39m awgn(X, snr)\n",
      "\u001b[1;31mValueError\u001b[0m: cannot reshape array of size 5 into shape (10,1)"
     ]
    }
   ],
   "source": [
    "M = 10 # number of array elem\n",
    "Kt = 3 # number of signal source\n",
    "# k := k'th signal source\n",
    "snr = 20 # db signal to noise\n",
    "L = 5\n",
    "f_k = np.array([ random.random() for j in range(Kt)]).reshape(Kt,1)\n",
    "a = lambda f_k : np.array([ np.exp(1j*2*np.pi*i*f_k) for i in range(M) ], dtype=complex).reshape(M,1)\n",
    "s_k = np.vstack( [np.array([ random.randint(-10,10)+random.randint(-10,10)*1j for i in range(L) ]).reshape(1,L) for j in range(Kt)] )\n",
    "c_k = np.array([ np.linalg.norm(s_k[j,:]) for j in range(Kt) ])\n",
    "b_k = np.vstack([ (s_k[j,:] / c_k[j]).reshape(1,L) for j in range(Kt) ])\n",
    "for j in range(Kt):\n",
    "    try:\n",
    "        assert np.linalg.norm(c_k[j]) > 0\n",
    "        assert np.abs(np.linalg.norm(b_k[j,:]) - 1) < epsilon\n",
    "    except:\n",
    "        print(c_k[j])\n",
    "        print(np.linalg.norm(b_k[j,:]))\n",
    "        assert False\n",
    "X = np.zeros((M,1))\n",
    "for j in range(Kt):\n",
    "    X = X + c_k[j] * (a(f_k[j]) * b_k[j,:].reshape(M,1))\n",
    "Y = X + awgn(X, snr)"
   ]
  },
  {
   "cell_type": "code",
   "execution_count": null,
   "metadata": {},
   "outputs": [
    {
     "name": "stdout",
     "output_type": "stream",
     "text": [
      "(10, 10)\n"
     ]
    }
   ],
   "source": [
    "Ry = np.corrcoef(Y@hermitian(Y), dtype=complex)\n",
    "print(Ry.shape)"
   ]
  },
  {
   "cell_type": "code",
   "execution_count": null,
   "metadata": {},
   "outputs": [
    {
     "name": "stdout",
     "output_type": "stream",
     "text": [
      "unbounded\n"
     ]
    }
   ],
   "source": [
    "# constants\n",
    "epsilon = 1e-8\n",
    "# variables\n",
    "W = cp.Variable((1,1), complex=True)\n",
    "X = cp.Variable((M,1), complex=True)\n",
    "u = cp.Variable((M,1), complex=True)\n",
    "# constraints\n",
    "matrix = cp.bmat([\n",
    "    [toep(u), X],\n",
    "    [    X.H, W]\n",
    "])\n",
    "constraint = [ matrix >> 0 ]\n",
    "constraint += [ cp.norm(Y-X, 'fro')**2 <= epsilon ]\n",
    "# problem\n",
    "prob = cp.Problem(cp.Minimize(0.5*( cp.real(cp.trace(W) + cp.trace(toep(u))) )))\n",
    "prob.solve()\n",
    "print(prob.status)\n"
   ]
  },
  {
   "cell_type": "code",
   "execution_count": null,
   "metadata": {},
   "outputs": [
    {
     "name": "stdout",
     "output_type": "stream",
     "text": [
      "None None None\n"
     ]
    },
    {
     "ename": "TypeError",
     "evalue": "unsupported operand type(s) for -: 'complex' and 'NoneType'",
     "output_type": "error",
     "traceback": [
      "\u001b[1;31m---------------------------------------------------------------------------\u001b[0m",
      "\u001b[1;31mTypeError\u001b[0m                                 Traceback (most recent call last)",
      "Cell \u001b[1;32mIn[18], line 2\u001b[0m\n\u001b[0;32m      1\u001b[0m \u001b[39mprint\u001b[39m(W\u001b[39m.\u001b[39mvalue, X\u001b[39m.\u001b[39mvalue, u\u001b[39m.\u001b[39mvalue)\n\u001b[1;32m----> 2\u001b[0m \u001b[39mprint\u001b[39m(cp\u001b[39m.\u001b[39mnorm(Y\u001b[39m-\u001b[39;49mX\u001b[39m.\u001b[39;49mvalue, \u001b[39m'\u001b[39m\u001b[39mfro\u001b[39m\u001b[39m'\u001b[39m)\u001b[39m*\u001b[39m\u001b[39m*\u001b[39m\u001b[39m2\u001b[39m)\n",
      "\u001b[1;31mTypeError\u001b[0m: unsupported operand type(s) for -: 'complex' and 'NoneType'"
     ]
    }
   ],
   "source": [
    "print(W.value, X.value, u.value)\n",
    "print(cp.norm(Y-X.value, 'fro')**2)"
   ]
  }
 ],
 "metadata": {
  "kernelspec": {
   "display_name": "math4999",
   "language": "python",
   "name": "python3"
  },
  "language_info": {
   "codemirror_mode": {
    "name": "ipython",
    "version": 3
   },
   "file_extension": ".py",
   "mimetype": "text/x-python",
   "name": "python",
   "nbconvert_exporter": "python",
   "pygments_lexer": "ipython3",
   "version": "3.10.10"
  },
  "orig_nbformat": 4
 },
 "nbformat": 4,
 "nbformat_minor": 2
}
